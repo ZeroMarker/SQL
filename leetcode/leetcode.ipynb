{
    "cells": [
        {
            "cell_type": "code",
            "execution_count": null,
            "metadata": {
                "azdata_cell_guid": "1e3e7c1b-3512-4458-8f11-69160aabd677",
                "language": "sql"
            },
            "outputs": [],
            "source": [
                "#176 第二高的薪水\n",
                "SELECT DISTINCT\n",
                "    Salary AS SecondHighestSalary\n",
                "FROM\n",
                "    Employee\n",
                "ORDER BY Salary DESC\n",
                "LIMIT 1 OFFSET 1\n",
                "\n",
                "SELECT\n",
                "    (SELECT DISTINCT\n",
                "         Salary\n",
                "     FROM\n",
                "         Employee\n",
                "     ORDER BY Salary DESC\n",
                "     LIMIT 1 OFFSET 1) AS SecondHighestSalary\n",
                ";\n"
            ]
        },
        {
            "cell_type": "code",
            "execution_count": null,
            "metadata": {
                "azdata_cell_guid": "4847d5c2-1fec-4585-9b87-ea585ee446e0",
                "language": "sql"
            },
            "outputs": [],
            "source": [
                "CREATE FUNCTION getNthHighestSalary(N INT) RETURNS INT\n",
                "BEGIN\n",
                "DECLARE M INT;\n",
                "    SET M = N-1;\n",
                "RETURN (\n",
                "    SELECT DISTINCT salary\n",
                "    FROM Employee\n",
                "    ORDER BY salary DESC\n",
                "    LIMIT M, 1\n",
                "    );\n",
                "END\n",
                "\n"
            ]
        },
        {
            "cell_type": "code",
            "execution_count": null,
            "metadata": {},
            "outputs": [],
            "source": [
                "-- 180. 连续出现的数字\n",
                "SELECT DISTINCT a.num\n",
                "FROM Logs a\n",
                "JOIN Logs b ON a.id = b.id - 1\n",
                "JOIN Logs c ON b.id = c.id - 1\n",
                "WHERE a.num = b.num\n",
                "  AND b.num = c.num;\n",
                "\n",
                "\n",
                "WITH ConsecutiveLogs AS (\n",
                "    SELECT\n",
                "        id,\n",
                "        num,\n",
                "        LAG(num, 1) OVER (ORDER BY id) AS prev_num,\n",
                "        LEAD(num, 1) OVER (ORDER BY id) AS next_num\n",
                "    FROM Logs\n",
                ")\n",
                "SELECT DISTINCT num\n",
                "FROM ConsecutiveLogs\n",
                "WHERE (num = prev_num AND num = next_num);\n"
            ]
        },
        {
            "cell_type": "code",
            "execution_count": null,
            "metadata": {},
            "outputs": [],
            "source": [
                "-- 183. 从不订购的客户\n",
                "select name as customers from customers where id not in (\n",
                "    select distinct customerId from orders\n",
                ")\n",
                "\n",
                "select a.name as customers from customers a \n",
                "left join orders b\n",
                "on a.id = b.customerId\n",
                "where b.customerid is null"
            ]
        },
        {
            "cell_type": "code",
            "execution_count": null,
            "metadata": {},
            "outputs": [],
            "source": [
                "-- 196. 删除重复的电子邮箱\n",
                "DELETE FROM Person\n",
                "WHERE id NOT IN (\n",
                "   SELECT id FROM (\n",
                "       SELECT MIN(id) AS id FROM Person GROUP BY email\n",
                "   ) AS u\n",
                ");\n",
                "-- 笛卡尔积 非等值筛选\n",
                "delete u\n",
                "from Person u , Person v\n",
                "where v.id < u.id and u.email = v.email "
            ]
        },
        {
            "cell_type": "code",
            "execution_count": null,
            "metadata": {},
            "outputs": [],
            "source": [
                "-- 197. 上升的温度\n",
                "select a.id from weather a, weather b\n",
                "where a.recorddate = DATE_ADD(b.recorddate, INTERVAL 1 DAY)\n",
                "and a.temperature > b.temperature"
            ]
        }
    ],
    "metadata": {
        "kernelspec": {
            "display_name": "SQL",
            "language": "sql",
            "name": "SQL"
        },
        "language_info": {
            "name": "sql",
            "version": ""
        }
    },
    "nbformat": 4,
    "nbformat_minor": 2
}
