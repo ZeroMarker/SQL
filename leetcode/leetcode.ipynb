{
    "metadata": {
        "kernelspec": {
            "name": "SQL",
            "display_name": "SQL",
            "language": "sql"
        },
        "language_info": {
            "name": "sql",
            "version": ""
        }
    },
    "nbformat_minor": 2,
    "nbformat": 4,
    "cells": [
        {
            "cell_type": "code",
            "source": [
                "#176 第二高的薪水\n",
                "SELECT DISTINCT\n",
                "    Salary AS SecondHighestSalary\n",
                "FROM\n",
                "    Employee\n",
                "ORDER BY Salary DESC\n",
                "LIMIT 1 OFFSET 1\n",
                "\n",
                "SELECT\n",
                "    (SELECT DISTINCT\n",
                "         Salary\n",
                "     FROM\n",
                "         Employee\n",
                "     ORDER BY Salary DESC\n",
                "     LIMIT 1 OFFSET 1) AS SecondHighestSalary\n",
                ";\n"
            ],
            "metadata": {
                "vscode": {
                    "languageId": "sql"
                },
                "azdata_cell_guid": "1e3e7c1b-3512-4458-8f11-69160aabd677",
                "language": "sql"
            },
            "outputs": [],
            "execution_count": null
        },
        {
            "cell_type": "code",
            "source": [
                "CREATE FUNCTION getNthHighestSalary(N INT) RETURNS INT\n",
                "BEGIN\n",
                "DECLARE M INT;\n",
                "    SET M = N-1;\n",
                "RETURN (\n",
                "    SELECT DISTINCT salary\n",
                "    FROM Employee\n",
                "    ORDER BY salary DESC\n",
                "    LIMIT M, 1\n",
                "    );\n",
                "END\n",
                "\n"
            ],
            "metadata": {
                "vscode": {
                    "languageId": "sql"
                },
                "azdata_cell_guid": "4847d5c2-1fec-4585-9b87-ea585ee446e0",
                "language": "sql"
            },
            "outputs": [],
            "execution_count": null
        }
    ]
}