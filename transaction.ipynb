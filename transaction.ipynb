{
 "cells": [
  {
   "cell_type": "markdown",
   "metadata": {},
   "source": [
    "## Transaction\n",
    "\n",
    "ACID\n",
    "- Atomicity\n",
    "- Consistency\n",
    "- Isolation\n",
    "- Durability\n",
    "\n",
    "begin;      // start a transaction\n",
    "\n",
    "commit;     // commit transaction\n",
    "\n",
    "rollback;   // undo\n",
    "\n",
    "SET AUTOCOMMIT=0    // prevent auto commit\n",
    "\n",
    "### Isolation\n",
    "\n",
    "Isolation Level\n",
    "\n",
    "- Read Uncommitted\n",
    "- Read Committed\n",
    "- Repeatable Read // default value\n",
    "- Serializable\n",
    "\n",
    "SELECT @@TRANSACTION_ISOLATION\n",
    "\n",
    "SET SESSION TRANSACTION ISOLATION LEVEL REPEATABLE READ;\n"
   ]
  }
 ],
 "metadata": {
  "language_info": {
   "name": "python"
  }
 },
 "nbformat": 4,
 "nbformat_minor": 2
}
