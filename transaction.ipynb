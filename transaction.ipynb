{
    "metadata": {
        "kernelspec": {
            "name": "SQL",
            "display_name": "SQL",
            "language": "sql"
        },
        "language_info": {
            "name": "sql",
            "version": ""
        }
    },
    "nbformat_minor": 2,
    "nbformat": 4,
    "cells": [
        {
            "cell_type": "markdown",
            "source": [
                "## Transaction\n",
                "\n",
                "ACID\n",
                "- Atomicity\n",
                "- Consistency\n",
                "- Isolation\n",
                "- Durability\n",
                "\n",
                "begin;      // start a transaction\n",
                "\n",
                "commit;     // commit transaction\n",
                "\n",
                "rollback;   // undo\n",
                "\n",
                "SET AUTOCOMMIT=0    // prevent auto commit\n",
                "\n",
                "### Isolation\n",
                "\n",
                "Isolation Level\n",
                "\n",
                "- Read Uncommitted\n",
                "- Read Committed\n",
                "- Repeatable Read // default value\n",
                "- Serializable\n",
                "\n",
                "SELECT @@TRANSACTION_ISOLATION\n",
                "\n",
                "SET SESSION TRANSACTION ISOLATION LEVEL REPEATABLE READ;\n"
            ],
            "metadata": {
                "azdata_cell_guid": "aec973dc-f4b8-4168-a748-c6b0135a3728"
            }
        }
    ]
}