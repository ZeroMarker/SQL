{
    "metadata": {
        "kernelspec": {
            "name": "SQL",
            "display_name": "SQL",
            "language": "sql"
        },
        "language_info": {
            "name": "sql",
            "version": ""
        }
    },
    "nbformat_minor": 2,
    "nbformat": 4,
    "cells": [
        {
            "cell_type": "code",
            "source": [
                "show databases;"
            ],
            "metadata": {
                "azdata_cell_guid": "25628372-5f19-4183-8fbf-23a6d4f12cdc",
                "language": "sql"
            },
            "outputs": [
                {
                    "output_type": "display_data",
                    "data": {
                        "text/html": "(10 row(s) affected)"
                    },
                    "metadata": {}
                },
                {
                    "output_type": "display_data",
                    "data": {
                        "text/html": "Total execution time: 00:00:01.531"
                    },
                    "metadata": {}
                },
                {
                    "output_type": "execute_result",
                    "execution_count": 1,
                    "data": {
                        "application/vnd.dataresource+json": {
                            "schema": {
                                "fields": [
                                    {
                                        "name": "Database"
                                    }
                                ]
                            },
                            "data": [
                                {
                                    "Database": "defaultdb"
                                },
                                {
                                    "Database": "ems"
                                },
                                {
                                    "Database": "information_schema"
                                },
                                {
                                    "Database": "mysql"
                                },
                                {
                                    "Database": "performance_schema"
                                },
                                {
                                    "Database": "sql_hr"
                                },
                                {
                                    "Database": "sql_inventory"
                                },
                                {
                                    "Database": "sql_invoicing"
                                },
                                {
                                    "Database": "sql_store"
                                },
                                {
                                    "Database": "sys"
                                }
                            ]
                        },
                        "text/html": "<table><tr><th>Database</th></tr><tr><td>defaultdb</td></tr><tr><td>ems</td></tr><tr><td>information_schema</td></tr><tr><td>mysql</td></tr><tr><td>performance_schema</td></tr><tr><td>sql_hr</td></tr><tr><td>sql_inventory</td></tr><tr><td>sql_invoicing</td></tr><tr><td>sql_store</td></tr><tr><td>sys</td></tr></table>"
                    },
                    "metadata": {}
                }
            ],
            "execution_count": 1
        }
    ]
}