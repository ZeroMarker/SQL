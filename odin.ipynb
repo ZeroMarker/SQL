{
    "metadata": {
        "kernelspec": {
            "name": "SQL",
            "display_name": "SQL",
            "language": "sql"
        },
        "language_info": {
            "name": "sql",
            "version": ""
        }
    },
    "nbformat_minor": 2,
    "nbformat": 4,
    "cells": [
        {
            "cell_type": "code",
            "source": [
                "show databases;"
            ],
            "metadata": {
                "azdata_cell_guid": "25628372-5f19-4183-8fbf-23a6d4f12cdc",
                "language": "sql"
            },
            "outputs": [
                {
                    "output_type": "display_data",
                    "data": {
                        "text/html": "(10 row(s) affected)"
                    },
                    "metadata": {}
                },
                {
                    "output_type": "display_data",
                    "data": {
                        "text/html": "Total execution time: 00:00:01.660"
                    },
                    "metadata": {}
                },
                {
                    "output_type": "execute_result",
                    "execution_count": 2,
                    "data": {
                        "application/vnd.dataresource+json": {
                            "schema": {
                                "fields": [
                                    {
                                        "name": "Database"
                                    }
                                ]
                            },
                            "data": [
                                {
                                    "Database": "defaultdb"
                                },
                                {
                                    "Database": "ems"
                                },
                                {
                                    "Database": "information_schema"
                                },
                                {
                                    "Database": "mysql"
                                },
                                {
                                    "Database": "performance_schema"
                                },
                                {
                                    "Database": "sql_hr"
                                },
                                {
                                    "Database": "sql_inventory"
                                },
                                {
                                    "Database": "sql_invoicing"
                                },
                                {
                                    "Database": "sql_store"
                                },
                                {
                                    "Database": "sys"
                                }
                            ]
                        },
                        "text/html": "<table><tr><th>Database</th></tr><tr><td>defaultdb</td></tr><tr><td>ems</td></tr><tr><td>information_schema</td></tr><tr><td>mysql</td></tr><tr><td>performance_schema</td></tr><tr><td>sql_hr</td></tr><tr><td>sql_inventory</td></tr><tr><td>sql_invoicing</td></tr><tr><td>sql_store</td></tr><tr><td>sys</td></tr></table>"
                    },
                    "metadata": {}
                }
            ],
            "execution_count": 2
        },
        {
            "cell_type": "code",
            "source": [
                "show GRANTS;"
            ],
            "metadata": {
                "azdata_cell_guid": "0f2fb277-47f3-4cc2-99a2-0e268e166d5d",
                "language": "sql"
            },
            "outputs": [
                {
                    "output_type": "display_data",
                    "data": {
                        "text/html": "(5 row(s) affected)"
                    },
                    "metadata": {}
                },
                {
                    "output_type": "display_data",
                    "data": {
                        "text/html": "Total execution time: 00:00:01.421"
                    },
                    "metadata": {}
                },
                {
                    "output_type": "execute_result",
                    "execution_count": 1,
                    "data": {
                        "application/vnd.dataresource+json": {
                            "schema": {
                                "fields": [
                                    {
                                        "name": "Grants for avnadmin@%"
                                    }
                                ]
                            },
                            "data": [
                                {
                                    "Grants for avnadmin@%": "GRANT SELECT, INSERT, UPDATE, DELETE, CREATE, DROP, RELOAD, PROCESS, REFERENCES, INDEX, ALTER, SHOW DATABASES, CREATE TEMPORARY TABLES, LOCK TABLES, EXECUTE, REPLICATION SLAVE, REPLICATION CLIENT, CREATE VIEW, SHOW VIEW, CREATE ROUTINE, ALTER ROUTINE, CREATE USER, EVENT, TRIGGER ON *.* TO \"avnadmin\"@\"%\" WITH GRANT OPTION"
                                },
                                {
                                    "Grants for avnadmin@%": "GRANT REPLICATION_APPLIER,ROLE_ADMIN ON *.* TO \"avnadmin\"@\"%\" WITH GRANT OPTION"
                                },
                                {
                                    "Grants for avnadmin@%": "REVOKE INSERT, UPDATE, DELETE, CREATE, DROP, REFERENCES, INDEX, ALTER, CREATE TEMPORARY TABLES, LOCK TABLES, EXECUTE, CREATE VIEW, SHOW VIEW, CREATE ROUTINE, ALTER ROUTINE, EVENT, TRIGGER ON \"metrics_user_telegraf\".* FROM \"avnadmin\"@\"%\""
                                },
                                {
                                    "Grants for avnadmin@%": "REVOKE INSERT, UPDATE, DELETE, CREATE, DROP, REFERENCES, INDEX, ALTER, CREATE TEMPORARY TABLES, LOCK TABLES, EXECUTE, CREATE VIEW, SHOW VIEW, CREATE ROUTINE, ALTER ROUTINE, EVENT, TRIGGER ON \"mysql\".* FROM \"avnadmin\"@\"%\""
                                },
                                {
                                    "Grants for avnadmin@%": "REVOKE INSERT, UPDATE, DELETE, CREATE, DROP, REFERENCES, INDEX, ALTER, CREATE TEMPORARY TABLES, LOCK TABLES, EXECUTE, CREATE VIEW, SHOW VIEW, CREATE ROUTINE, ALTER ROUTINE, EVENT, TRIGGER ON \"sys\".* FROM \"avnadmin\"@\"%\""
                                }
                            ]
                        },
                        "text/html": "<table><tr><th>Grants for avnadmin@%</th></tr><tr><td>GRANT SELECT, INSERT, UPDATE, DELETE, CREATE, DROP, RELOAD, PROCESS, REFERENCES, INDEX, ALTER, SHOW DATABASES, CREATE TEMPORARY TABLES, LOCK TABLES, EXECUTE, REPLICATION SLAVE, REPLICATION CLIENT, CREATE VIEW, SHOW VIEW, CREATE ROUTINE, ALTER ROUTINE, CREATE USER, EVENT, TRIGGER ON *.* TO &quot;avnadmin&quot;@&quot;%&quot; WITH GRANT OPTION</td></tr><tr><td>GRANT REPLICATION_APPLIER,ROLE_ADMIN ON *.* TO &quot;avnadmin&quot;@&quot;%&quot; WITH GRANT OPTION</td></tr><tr><td>REVOKE INSERT, UPDATE, DELETE, CREATE, DROP, REFERENCES, INDEX, ALTER, CREATE TEMPORARY TABLES, LOCK TABLES, EXECUTE, CREATE VIEW, SHOW VIEW, CREATE ROUTINE, ALTER ROUTINE, EVENT, TRIGGER ON &quot;metrics_user_telegraf&quot;.* FROM &quot;avnadmin&quot;@&quot;%&quot;</td></tr><tr><td>REVOKE INSERT, UPDATE, DELETE, CREATE, DROP, REFERENCES, INDEX, ALTER, CREATE TEMPORARY TABLES, LOCK TABLES, EXECUTE, CREATE VIEW, SHOW VIEW, CREATE ROUTINE, ALTER ROUTINE, EVENT, TRIGGER ON &quot;mysql&quot;.* FROM &quot;avnadmin&quot;@&quot;%&quot;</td></tr><tr><td>REVOKE INSERT, UPDATE, DELETE, CREATE, DROP, REFERENCES, INDEX, ALTER, CREATE TEMPORARY TABLES, LOCK TABLES, EXECUTE, CREATE VIEW, SHOW VIEW, CREATE ROUTINE, ALTER ROUTINE, EVENT, TRIGGER ON &quot;sys&quot;.* FROM &quot;avnadmin&quot;@&quot;%&quot;</td></tr></table>"
                    },
                    "metadata": {}
                }
            ],
            "execution_count": 1
        },
        {
            "cell_type": "code",
            "source": [
                "use sql_invoicing;\r\n",
                "SELECT * from invoices;"
            ],
            "metadata": {
                "language": "sql",
                "azdata_cell_guid": "6150d83e-77a1-440b-b6a3-791927d0729b"
            },
            "outputs": [
                {
                    "output_type": "display_data",
                    "data": {
                        "text/html": "Commands completed successfully"
                    },
                    "metadata": {}
                },
                {
                    "output_type": "display_data",
                    "data": {
                        "text/html": "(17 row(s) affected)"
                    },
                    "metadata": {}
                },
                {
                    "output_type": "display_data",
                    "data": {
                        "text/html": "Total execution time: 00:00:02.095"
                    },
                    "metadata": {}
                },
                {
                    "output_type": "execute_result",
                    "metadata": {},
                    "execution_count": 1,
                    "data": {
                        "application/vnd.dataresource+json": {
                            "schema": {
                                "fields": [
                                    {
                                        "name": "invoice_id"
                                    },
                                    {
                                        "name": "number"
                                    },
                                    {
                                        "name": "client_id"
                                    },
                                    {
                                        "name": "invoice_total"
                                    },
                                    {
                                        "name": "payment_total"
                                    },
                                    {
                                        "name": "invoice_date"
                                    },
                                    {
                                        "name": "due_date"
                                    },
                                    {
                                        "name": "payment_date"
                                    }
                                ]
                            },
                            "data": [
                                {
                                    "invoice_id": "1",
                                    "number": "91-953-3396",
                                    "client_id": "2",
                                    "invoice_total": "101.79",
                                    "payment_total": "0.00",
                                    "invoice_date": "2019-03-09",
                                    "due_date": "2019-03-29",
                                    "payment_date": "NULL"
                                },
                                {
                                    "invoice_id": "2",
                                    "number": "03-898-6735",
                                    "client_id": "5",
                                    "invoice_total": "175.32",
                                    "payment_total": "8.18",
                                    "invoice_date": "2019-06-11",
                                    "due_date": "2019-07-01",
                                    "payment_date": "2019-02-12"
                                },
                                {
                                    "invoice_id": "3",
                                    "number": "20-228-0335",
                                    "client_id": "5",
                                    "invoice_total": "147.99",
                                    "payment_total": "0.00",
                                    "invoice_date": "2019-07-31",
                                    "due_date": "2019-08-20",
                                    "payment_date": "NULL"
                                },
                                {
                                    "invoice_id": "4",
                                    "number": "56-934-0748",
                                    "client_id": "3",
                                    "invoice_total": "152.21",
                                    "payment_total": "0.00",
                                    "invoice_date": "2019-03-08",
                                    "due_date": "2019-03-28",
                                    "payment_date": "NULL"
                                },
                                {
                                    "invoice_id": "5",
                                    "number": "87-052-3121",
                                    "client_id": "5",
                                    "invoice_total": "169.36",
                                    "payment_total": "0.00",
                                    "invoice_date": "2019-07-18",
                                    "due_date": "2019-08-07",
                                    "payment_date": "NULL"
                                },
                                {
                                    "invoice_id": "6",
                                    "number": "75-587-6626",
                                    "client_id": "1",
                                    "invoice_total": "157.78",
                                    "payment_total": "74.55",
                                    "invoice_date": "2019-01-29",
                                    "due_date": "2019-02-18",
                                    "payment_date": "2019-01-03"
                                },
                                {
                                    "invoice_id": "7",
                                    "number": "68-093-9863",
                                    "client_id": "3",
                                    "invoice_total": "133.87",
                                    "payment_total": "0.00",
                                    "invoice_date": "2019-09-04",
                                    "due_date": "2019-09-24",
                                    "payment_date": "NULL"
                                },
                                {
                                    "invoice_id": "8",
                                    "number": "78-145-1093",
                                    "client_id": "1",
                                    "invoice_total": "189.12",
                                    "payment_total": "0.00",
                                    "invoice_date": "2019-05-20",
                                    "due_date": "2019-06-09",
                                    "payment_date": "NULL"
                                },
                                {
                                    "invoice_id": "9",
                                    "number": "77-593-0081",
                                    "client_id": "5",
                                    "invoice_total": "172.17",
                                    "payment_total": "0.00",
                                    "invoice_date": "2019-07-09",
                                    "due_date": "2019-07-29",
                                    "payment_date": "NULL"
                                },
                                {
                                    "invoice_id": "10",
                                    "number": "48-266-1517",
                                    "client_id": "1",
                                    "invoice_total": "159.50",
                                    "payment_total": "0.00",
                                    "invoice_date": "2019-06-30",
                                    "due_date": "2019-07-20",
                                    "payment_date": "NULL"
                                },
                                {
                                    "invoice_id": "11",
                                    "number": "20-848-0181",
                                    "client_id": "3",
                                    "invoice_total": "126.15",
                                    "payment_total": "0.03",
                                    "invoice_date": "2019-01-07",
                                    "due_date": "2019-01-27",
                                    "payment_date": "2019-01-11"
                                },
                                {
                                    "invoice_id": "13",
                                    "number": "41-666-1035",
                                    "client_id": "5",
                                    "invoice_total": "135.01",
                                    "payment_total": "87.44",
                                    "invoice_date": "2019-06-25",
                                    "due_date": "2019-07-15",
                                    "payment_date": "2019-01-26"
                                },
                                {
                                    "invoice_id": "15",
                                    "number": "55-105-9605",
                                    "client_id": "3",
                                    "invoice_total": "167.29",
                                    "payment_total": "80.31",
                                    "invoice_date": "2019-11-25",
                                    "due_date": "2019-12-15",
                                    "payment_date": "2019-01-15"
                                },
                                {
                                    "invoice_id": "16",
                                    "number": "10-451-8824",
                                    "client_id": "1",
                                    "invoice_total": "162.02",
                                    "payment_total": "0.00",
                                    "invoice_date": "2019-03-30",
                                    "due_date": "2019-04-19",
                                    "payment_date": "NULL"
                                },
                                {
                                    "invoice_id": "17",
                                    "number": "33-615-4694",
                                    "client_id": "3",
                                    "invoice_total": "126.38",
                                    "payment_total": "68.10",
                                    "invoice_date": "2019-07-30",
                                    "due_date": "2019-08-19",
                                    "payment_date": "2019-01-15"
                                },
                                {
                                    "invoice_id": "18",
                                    "number": "52-269-9803",
                                    "client_id": "5",
                                    "invoice_total": "180.17",
                                    "payment_total": "42.77",
                                    "invoice_date": "2019-05-23",
                                    "due_date": "2019-06-12",
                                    "payment_date": "2019-01-08"
                                },
                                {
                                    "invoice_id": "19",
                                    "number": "83-559-4105",
                                    "client_id": "1",
                                    "invoice_total": "134.47",
                                    "payment_total": "0.00",
                                    "invoice_date": "2019-11-23",
                                    "due_date": "2019-12-13",
                                    "payment_date": "NULL"
                                }
                            ]
                        },
                        "text/html": [
                            "<table>",
                            "<tr><th>invoice_id</th><th>number</th><th>client_id</th><th>invoice_total</th><th>payment_total</th><th>invoice_date</th><th>due_date</th><th>payment_date</th></tr>",
                            "<tr><td>1</td><td>91-953-3396</td><td>2</td><td>101.79</td><td>0.00</td><td>2019-03-09</td><td>2019-03-29</td><td>NULL</td></tr>",
                            "<tr><td>2</td><td>03-898-6735</td><td>5</td><td>175.32</td><td>8.18</td><td>2019-06-11</td><td>2019-07-01</td><td>2019-02-12</td></tr>",
                            "<tr><td>3</td><td>20-228-0335</td><td>5</td><td>147.99</td><td>0.00</td><td>2019-07-31</td><td>2019-08-20</td><td>NULL</td></tr>",
                            "<tr><td>4</td><td>56-934-0748</td><td>3</td><td>152.21</td><td>0.00</td><td>2019-03-08</td><td>2019-03-28</td><td>NULL</td></tr>",
                            "<tr><td>5</td><td>87-052-3121</td><td>5</td><td>169.36</td><td>0.00</td><td>2019-07-18</td><td>2019-08-07</td><td>NULL</td></tr>",
                            "<tr><td>6</td><td>75-587-6626</td><td>1</td><td>157.78</td><td>74.55</td><td>2019-01-29</td><td>2019-02-18</td><td>2019-01-03</td></tr>",
                            "<tr><td>7</td><td>68-093-9863</td><td>3</td><td>133.87</td><td>0.00</td><td>2019-09-04</td><td>2019-09-24</td><td>NULL</td></tr>",
                            "<tr><td>8</td><td>78-145-1093</td><td>1</td><td>189.12</td><td>0.00</td><td>2019-05-20</td><td>2019-06-09</td><td>NULL</td></tr>",
                            "<tr><td>9</td><td>77-593-0081</td><td>5</td><td>172.17</td><td>0.00</td><td>2019-07-09</td><td>2019-07-29</td><td>NULL</td></tr>",
                            "<tr><td>10</td><td>48-266-1517</td><td>1</td><td>159.50</td><td>0.00</td><td>2019-06-30</td><td>2019-07-20</td><td>NULL</td></tr>",
                            "<tr><td>11</td><td>20-848-0181</td><td>3</td><td>126.15</td><td>0.03</td><td>2019-01-07</td><td>2019-01-27</td><td>2019-01-11</td></tr>",
                            "<tr><td>13</td><td>41-666-1035</td><td>5</td><td>135.01</td><td>87.44</td><td>2019-06-25</td><td>2019-07-15</td><td>2019-01-26</td></tr>",
                            "<tr><td>15</td><td>55-105-9605</td><td>3</td><td>167.29</td><td>80.31</td><td>2019-11-25</td><td>2019-12-15</td><td>2019-01-15</td></tr>",
                            "<tr><td>16</td><td>10-451-8824</td><td>1</td><td>162.02</td><td>0.00</td><td>2019-03-30</td><td>2019-04-19</td><td>NULL</td></tr>",
                            "<tr><td>17</td><td>33-615-4694</td><td>3</td><td>126.38</td><td>68.10</td><td>2019-07-30</td><td>2019-08-19</td><td>2019-01-15</td></tr>",
                            "<tr><td>18</td><td>52-269-9803</td><td>5</td><td>180.17</td><td>42.77</td><td>2019-05-23</td><td>2019-06-12</td><td>2019-01-08</td></tr>",
                            "<tr><td>19</td><td>83-559-4105</td><td>1</td><td>134.47</td><td>0.00</td><td>2019-11-23</td><td>2019-12-13</td><td>NULL</td></tr>",
                            "</table>"
                        ]
                    }
                }
            ],
            "execution_count": 1
        }
    ]
}