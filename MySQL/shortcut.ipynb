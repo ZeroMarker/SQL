{
    "metadata": {
        "kernelspec": {
            "name": "SQL",
            "display_name": "SQL",
            "language": "sql"
        },
        "language_info": {
            "name": "sql",
            "version": ""
        }
    },
    "nbformat_minor": 2,
    "nbformat": 4,
    "cells": [
        {
            "cell_type": "markdown",
            "source": [
                "[Navicat Hotkeys](https://hotkeycheatsheet.com/hotkey-cheatsheet/navicat)\n"
            ],
            "metadata": {
                "azdata_cell_guid": "8a467a2c-2477-450f-b881-8d43cd3748b7"
            }
        }
    ]
}