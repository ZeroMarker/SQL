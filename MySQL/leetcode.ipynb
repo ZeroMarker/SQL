{
 "cells": [
  {
   "cell_type": "code",
   "execution_count": null,
   "metadata": {
    "vscode": {
     "languageId": "sql"
    }
   },
   "outputs": [],
   "source": [
    "#176 第二高的薪水\n",
    "SELECT DISTINCT\n",
    "    Salary AS SecondHighestSalary\n",
    "FROM\n",
    "    Employee\n",
    "ORDER BY Salary DESC\n",
    "LIMIT 1 OFFSET 1\n",
    "\n",
    "SELECT\n",
    "    (SELECT DISTINCT\n",
    "         Salary\n",
    "     FROM\n",
    "         Employee\n",
    "     ORDER BY Salary DESC\n",
    "     LIMIT 1 OFFSET 1) AS SecondHighestSalary\n",
    ";\n"
   ]
  },
  {
   "cell_type": "code",
   "execution_count": null,
   "metadata": {
    "vscode": {
     "languageId": "sql"
    }
   },
   "outputs": [],
   "source": [
    "CREATE FUNCTION getNthHighestSalary(N INT) RETURNS INT\n",
    "BEGIN\n",
    "DECLARE M INT;\n",
    "    SET M = N-1;\n",
    "RETURN (\n",
    "    SELECT DISTINCT salary\n",
    "    FROM Employee\n",
    "    ORDER BY salary DESC\n",
    "    LIMIT M, 1\n",
    "    );\n",
    "END\n",
    "\n"
   ]
  }
 ],
 "metadata": {
  "language_info": {
   "name": "python"
  }
 },
 "nbformat": 4,
 "nbformat_minor": 2
}
