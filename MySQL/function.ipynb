{
    "metadata": {
        "kernelspec": {
            "name": "SQL",
            "display_name": "SQL",
            "language": "sql"
        },
        "language_info": {
            "name": "sql",
            "version": ""
        }
    },
    "nbformat_minor": 2,
    "nbformat": 4,
    "cells": [
        {
            "cell_type": "code",
            "source": [
                "-- @branch\n",
                "-- if\n",
                "USE sql_store;\n",
                "SELECT\n",
                "    order_id,\n",
                "    order_date,\n",
                "    IF(\n",
                "        YEAR(order_date) = YEAR(DATE_SUB(NOW(), INTERVAL 4 YEAR)),\n",
                "        'Active',\n",
                "        'Archived'\n",
                "    ) AS category\n",
                "FROM orders;\n",
                "\n",
                "USE sql_store;\n",
                "SELECT\n",
                "    product_id,\n",
                "    name,\n",
                "    COUNT(*) AS order_times,\n",
                "    IF(\n",
                "        COUNT(*) > 1,\n",
                "        'Many times',\n",
                "        'Once'\n",
                "    ) AS frequency\n",
                "FROM products\n",
                "JOIN order_items USING (product_id)\n",
                "GROUP BY product_id, name;\n",
                "USE sql_store;\n",
                "-- if null\n",
                "SELECT\n",
                "    order_id,\n",
                "    IFNULL(shipper_id, 'Not resigned') AS shipper,\n",
                "    COALESCE(shipper_id, comments, 'Not resigned') AS shipper2\n",
                "FROM orders;\n",
                "-- case\n",
                "USE sql_store;\n",
                "SELECT\n",
                "    order_id,\n",
                "    order_date,\n",
                "    CASE\n",
                "        WHEN YEAR(order_date) = YEAR(NOW()) THEN 'Active'\n",
                "        WHEN YEAR(order_date) = YEAR(NOW()) - 1 THEN 'Last year'\n",
                "        WHEN YEAR(order_date) < YEAR(NOW()) - 1 THEN 'Archived'\n",
                "        ELSE 'Future'\n",
                "    END AS category\n",
                "FROM orders"
            ],
            "metadata": {
                "vscode": {
                    "languageId": "sql"
                },
                "azdata_cell_guid": "ed923643-16a0-46a2-9879-11a5396a067e",
                "language": "sql"
            },
            "outputs": [],
            "execution_count": null
        },
        {
            "cell_type": "code",
            "source": [
                "-- date\n",
                "SELECT NOW();\n",
                "\n",
                "SELECT CURDATE();\n",
                "\n",
                "SELECT CURTIME();\n",
                "\n",
                "SELECT YEAR(NOW());\n",
                "\n",
                "SELECT DAYNAME(NOW());\n",
                "\n",
                "SELECT MONTHNAME(NOW());\n",
                "\n",
                "SELECT EXTRACT(YEAR FROM NOW());\n",
                "\n",
                "-- https://dev.mysql.com/doc/refman/8.0/en/date-and-time-functions.html\n",
                "\n",
                "-- example\n",
                "USE sql_store;\n",
                "SELECT *\n",
                "FROM orders\n",
                "WHERE YEAR(order_date) = YEAR(NOW());\n",
                "\n",
                "-- format\n",
                "SELECT DATE_FORMAT(NOW(), '%M %d %Y');\n",
                "\n",
                "SELECT TIME_FORMAT(NOW(), '%H:%i %p');\n",
                "\n",
                "-- calculate\n",
                "SELECT DATE_ADD(NOW(), INTERVAL 1 YEAR);"
            ],
            "metadata": {
                "vscode": {
                    "languageId": "sql"
                },
                "azdata_cell_guid": "550598a6-0954-496f-9031-b67adf352419",
                "language": "sql"
            },
            "outputs": [],
            "execution_count": null
        },
        {
            "cell_type": "code",
            "source": [
                "-- number\n",
                "SELECT ROUND(3.14, 1);\n",
                "\n",
                "SELECT CEILING(5.2);\n",
                "\n",
                "SELECT FLOOR(3.2);\n",
                "\n",
                "SELECT ABS(-1.3);\n",
                "\n",
                "SELECT RAND(100)\n",
                "\n",
                "-- https://dev.mysql.com/doc/refman/8.0/en/numeric-functions.html"
            ],
            "metadata": {
                "vscode": {
                    "languageId": "sql"
                },
                "azdata_cell_guid": "ae61c4cf-fa98-40aa-b1e4-0afb2f26b7ad",
                "language": "sql"
            },
            "outputs": [],
            "execution_count": null
        },
        {
            "cell_type": "code",
            "source": [
                "-- string\n",
                "SELECT UPPER('sky');\n",
                "\n",
                "SELECT LOWER('Sky');\n",
                "\n",
                "SELECT LTRIM('  sky');\n",
                "\n",
                "SELECT RTRIM('  sky ');\n",
                "\n",
                "SELECT TRIM('  sky  ');\n",
                "\n",
                "SELECT LEFT('Kindergarten', 4);\n",
                "\n",
                "SELECT SUBSTRING('Kindergarten', 4, 4);\n",
                "\n",
                "SELECT LOCATE('q','Kindergarten'); -- get 0\n",
                "\n",
                "SELECT REPLACE('Kindergarten', 'garten', 'garden');\n",
                "\n",
                "SELECT CONCAT('first', 'last');\n",
                "\n",
                "-- https://dev.mysql.com/doc/refman/8.0/en/string-functions.html"
            ],
            "metadata": {
                "vscode": {
                    "languageId": "sql"
                },
                "azdata_cell_guid": "bb9d0eab-06e0-4b3e-bea5-48e99c44a218",
                "language": "sql"
            },
            "outputs": [],
            "execution_count": null
        }
    ]
}