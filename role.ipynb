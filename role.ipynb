{
 "cells": [
  {
   "cell_type": "code",
   "execution_count": null,
   "metadata": {},
   "outputs": [],
   "source": [
    "-- Role Creation: You can create a role using the CREATE ROLE statement, specifying the desired privileges for that role.\n",
    "\n",
    "CREATE ROLE role_name;\n",
    "\n",
    "-- Privilege Assignment: Once a role is created, you can grant privileges to it using the GRANT statement, just like you would for a user.\n",
    "\n",
    "\n",
    "GRANT SELECT, INSERT, UPDATE ON database_name.* TO role_name;\n",
    "-- Role Activation: Users can then be granted the role, effectively inheriting its privileges. This is done using the GRANT statement as well.\n",
    "GRANT role_name TO user_name;\n",
    "\n",
    "-- Role Usage: Once a user has been granted a role, they can activate it using the SET ROLE statement.\n",
    "SET ROLE role_name;\n",
    "\n",
    "-- Revoking Roles: Roles can be revoked from users using the REVOKE statement.\n",
    "REVOKE role_name FROM user_name;\n",
    "\n",
    "-- Dropping Roles: You can drop a role when it's no longer needed using the DROP ROLE statement.\n",
    "DROP ROLE role_name;"
   ]
  }
 ],
 "metadata": {
  "language_info": {
   "name": "python"
  }
 },
 "nbformat": 4,
 "nbformat_minor": 2
}
