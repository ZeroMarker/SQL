{
 "cells": [
  {
   "cell_type": "code",
   "execution_count": null,
   "metadata": {
    "vscode": {
     "languageId": "sql"
    }
   },
   "outputs": [],
   "source": [
    "USE sql_invoicing;\n",
    "CREATE VIEW sales_by_client AS\n",
    "    SELECT\n",
    "        client_id,\n",
    "        name,\n",
    "        SUM(invoice_total) AS total_sales\n",
    "    FROM clients c\n",
    "    JOIN invoices i USING (client_id)\n",
    "    GROUP BY client_id, name;\n",
    "\n",
    "USE sql_invoicing;\n",
    "SELECT *\n",
    "FROM sales_by_client\n",
    "ORDER BY total_sales DESC;\n"
   ]
  },
  {
   "cell_type": "code",
   "execution_count": null,
   "metadata": {
    "vscode": {
     "languageId": "sql"
    }
   },
   "outputs": [],
   "source": [
    "-- drop\n",
    "USE sql_invoicing;\n",
    "DROP VIEW sales_by_client;\n",
    "\n",
    "-- update\n",
    "USE sql_invoicing;\n",
    "CREATE OR REPLACE VIEW sales_by_client AS\n",
    "    SELECT\n",
    "        client_id,\n",
    "        name,\n",
    "        SUM(invoice_total) AS total_sales\n",
    "    FROM clients c\n",
    "             JOIN invoices i USING (client_id)\n",
    "    GROUP BY client_id, name;\n",
    "\n",
    "-- updatable view\n",
    "CREATE OR REPLACE VIEW invoice_with_balances AS\n",
    "    SELECT\n",
    "        invoice_id,\n",
    "        number,\n",
    "        client_id,\n",
    "        invoice_total,\n",
    "        invoice_total - payment_total AS balance,\n",
    "        payment_total,\n",
    "        invoice_date,\n",
    "        due_date,\n",
    "        payment_date\n",
    "    FROM invoices\n",
    "    WHERE (invoice_total - payment_total) > 0;\n",
    "\n",
    "DELETE FROM invoice_with_balances\n",
    "WHERE invoice_id = 2;\n"
   ]
  }
 ],
 "metadata": {
  "language_info": {
   "name": "python"
  }
 },
 "nbformat": 4,
 "nbformat_minor": 2
}
